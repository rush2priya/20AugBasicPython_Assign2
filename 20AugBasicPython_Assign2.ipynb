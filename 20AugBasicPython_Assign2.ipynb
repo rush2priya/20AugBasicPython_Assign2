{
 "cells": [
  {
   "cell_type": "code",
   "execution_count": 8,
   "id": "558f3531-c7cb-4929-b9f2-6e9dc41d778c",
   "metadata": {},
   "outputs": [
    {
     "name": "stdin",
     "output_type": "stream",
     "text": [
      "Enter your text:  Hi! My name is Priyanka.\n"
     ]
    },
    {
     "name": "stdout",
     "output_type": "stream",
     "text": [
      ".aknayirP si eman yM !iH\n"
     ]
    }
   ],
   "source": [
    "# Ans 1 :: String Based Assignment Problem\n",
    "\n",
    "text1 = input(\"Enter your text: \")\n",
    "reverse_text = text1[::-1]\n",
    "print(reverse_text)"
   ]
  },
  {
   "cell_type": "code",
   "execution_count": 26,
   "id": "aec930a5-8857-459d-a039-d33047267eaa",
   "metadata": {},
   "outputs": [
    {
     "name": "stdin",
     "output_type": "stream",
     "text": [
      "Enter your text:  mom\n"
     ]
    },
    {
     "name": "stdout",
     "output_type": "stream",
     "text": [
      "You have entered a Palindrome\n"
     ]
    }
   ],
   "source": [
    "# Ans 2 :: String Based Assignment Problem\n",
    "\n",
    "text2 = input(\"Enter your text: \")\n",
    "reverse_text2 = text2[::-1]\n",
    "\n",
    "if text2 == reverse_text2:\n",
    "    print(\"You have entered a Palindrome\")\n",
    "else:\n",
    "    print(\"Your text is not a Palindrome\")\n",
    "    "
   ]
  },
  {
   "cell_type": "code",
   "execution_count": 34,
   "id": "a569dc7c-4ae8-4bfd-b92e-61ba3f57576b",
   "metadata": {},
   "outputs": [
    {
     "name": "stdin",
     "output_type": "stream",
     "text": [
      "Enter your text:  hi! nice to meet you\n"
     ]
    },
    {
     "name": "stdout",
     "output_type": "stream",
     "text": [
      "HI! NICE TO MEET YOU\n"
     ]
    }
   ],
   "source": [
    "# Ans 3 :: String Based Assignment Problem\n",
    "\n",
    "text3 = input(\"Enter your text: \")\n",
    "upper_text3 = text3.upper()\n",
    "\n",
    "print (upper_text3)\n"
   ]
  },
  {
   "cell_type": "code",
   "execution_count": 47,
   "id": "d931f035-9e52-4cbe-af29-f995ce941300",
   "metadata": {},
   "outputs": [
    {
     "name": "stdin",
     "output_type": "stream",
     "text": [
      "Enter your text:  OJOJNONJSOI\n"
     ]
    },
    {
     "name": "stdout",
     "output_type": "stream",
     "text": [
      "hi! nice to meet you\n"
     ]
    }
   ],
   "source": [
    "# Ans 4 :: String Based Assignment Problem\n",
    "\n",
    "text4 = input(\"Enter your text: \")\n",
    "lower_text4 = text3.lower()\n",
    "\n",
    "print (lower_text4)"
   ]
  },
  {
   "cell_type": "code",
   "execution_count": 77,
   "id": "283d3c49-e6e8-4e7e-9823-e7762914447b",
   "metadata": {},
   "outputs": [
    {
     "name": "stdin",
     "output_type": "stream",
     "text": [
      "Enter your text:  AAeeeiiioooouuu\n"
     ]
    },
    {
     "name": "stdout",
     "output_type": "stream",
     "text": [
      "15\n"
     ]
    }
   ],
   "source": [
    "# Ans 5 :: String Based Assignment Problem\n",
    "\n",
    "text5 = input(\"Enter your text: \").lower()\n",
    "\n",
    "vowel_a = (\"a\")\n",
    "vowel_e = (\"e\")\n",
    "vowel_i = (\"i\")\n",
    "vowel_o = (\"o\")\n",
    "vowel_u = (\"u\")\n",
    "\n",
    "a = text5.count(vowel_a)\n",
    "e = text5.count(vowel_e)\n",
    "i = text5.count(vowel_i)\n",
    "o = text5.count(vowel_o)\n",
    "u = text5.count(vowel_u)\n",
    "\n",
    "vowel_count = ( a + e + i +o + u)\n",
    "print (vowel_count)"
   ]
  },
  {
   "cell_type": "code",
   "execution_count": 17,
   "id": "87cadff1-d844-4154-bcad-70a134f7d585",
   "metadata": {},
   "outputs": [
    {
     "name": "stdin",
     "output_type": "stream",
     "text": [
      "Enter your text:  hi, this took some time\n"
     ]
    },
    {
     "name": "stdout",
     "output_type": "stream",
     "text": [
      "Number of Consonants:  18\n"
     ]
    }
   ],
   "source": [
    "# Ans 6 :: String Based Assignment Problem\n",
    "\n",
    "text6 = input(\"Enter your text: \").lower()\n",
    "\n",
    "consonants = \"bcdfghjklmnpqrstvwxyz\"\n",
    "\n",
    "consonant_count = sum(text6.count(consonant) for consonant in consonants)\n",
    "\n",
    "print (\"Number of Consonants: \",consonant_count)"
   ]
  },
  {
   "cell_type": "code",
   "execution_count": 19,
   "id": "c2099cff-cf23-4900-a00a-3f2dfb58dd59",
   "metadata": {},
   "outputs": [
    {
     "name": "stdin",
     "output_type": "stream",
     "text": [
      "Enter your text:  Hi! I thought the correct command was remove\n"
     ]
    },
    {
     "name": "stdout",
     "output_type": "stream",
     "text": [
      "Hi!Ithoughtthecorrectcommandwasremove\n"
     ]
    }
   ],
   "source": [
    "# Ans 7 :: String Based Assignment Problem\n",
    "\n",
    "text7 = input(\"Enter your text: \")\n",
    "spaces = text7.replace(\" \",\"\")\n",
    "print (spaces)\n"
   ]
  },
  {
   "cell_type": "code",
   "execution_count": 9,
   "id": "c2edd8e3-5859-44bd-a1dd-73f6d0663678",
   "metadata": {},
   "outputs": [
    {
     "name": "stdin",
     "output_type": "stream",
     "text": [
      "Enter your text:  hi am\n"
     ]
    },
    {
     "name": "stdout",
     "output_type": "stream",
     "text": [
      "4\n"
     ]
    }
   ],
   "source": [
    "# Find the length of a string without using the `len()` function.\n",
    "# Ans 8 :: String Based Assignment Problem\n",
    "\n",
    "text8 = input(\"Enter your text: \").lower()\n",
    "\n",
    "letters = \"abcdefghijklmnopqrstuvwxyz\"\n",
    "\n",
    "total_letters = sum(text8.count(letter) for letter in letters)\n",
    "\n",
    "print (total_letters)\n"
   ]
  },
  {
   "cell_type": "code",
   "execution_count": 18,
   "id": "83191ff3-9592-4099-89b4-7ce6c816bbfa",
   "metadata": {},
   "outputs": [
    {
     "name": "stdin",
     "output_type": "stream",
     "text": [
      "Enter your text:  Hi! these concepts are tricky.\n",
      "Enter the word to be found in your text:  hi\n"
     ]
    },
    {
     "name": "stdout",
     "output_type": "stream",
     "text": [
      "Word 'hi' found in your text\n"
     ]
    }
   ],
   "source": [
    "# Check if a string contains a specific word.\n",
    "# Ans 9 :: String Based Assignment Problem\n",
    "\n",
    "text9 = input(\"Enter your text: \")\n",
    "word1 = input(\"Enter the word to be found in your text: \")\n",
    "\n",
    "word_found = text9.find(word1)\n",
    "\n",
    "if word_found != 1:\n",
    "    print (f\"Word '{word1}' was found in your text\")\n",
    "else:\n",
    "    print (f\"Word '{word1}' was not found in your text\")\n"
   ]
  },
  {
   "cell_type": "code",
   "execution_count": 23,
   "id": "1aef15fa-841d-4835-8c32-07a721b7863d",
   "metadata": {},
   "outputs": [
    {
     "name": "stdin",
     "output_type": "stream",
     "text": [
      "Enter your text:  Hi! I am programming\n",
      "Enter text you want to replace:  I am\n",
      "Enter your new text :  We are\n"
     ]
    },
    {
     "name": "stdout",
     "output_type": "stream",
     "text": [
      "\n",
      "Here is your altered text:\n",
      "Hi! We are programming\n"
     ]
    }
   ],
   "source": [
    "# Replace a word in a string with another word.\n",
    "# Ans 10 :: String Based Assignment Problem\n",
    "\n",
    "text10 = input(\"Enter your text: \")\n",
    "text_tobe_altered = input(\"Enter text you want to replace: \")\n",
    "alternate_text1 = input(\"Enter your new text : \")\n",
    "\n",
    "edited_text10 = text10.replace(text_tobe_altered,alternate_text1,-1)\n",
    "\n",
    "print (f\"\\nHere is your altered text:\\n{edited_text10}\")"
   ]
  },
  {
   "cell_type": "code",
   "execution_count": 3,
   "id": "936c47ae-3b6a-43ed-9db4-050929d0de68",
   "metadata": {},
   "outputs": [
    {
     "name": "stdin",
     "output_type": "stream",
     "text": [
      "Enter your text:  HI how are you\n",
      "Enter text you want to count:  hi\n"
     ]
    },
    {
     "name": "stdout",
     "output_type": "stream",
     "text": [
      "\n",
      "hi appeared 1 time in given text\n"
     ]
    }
   ],
   "source": [
    "# Count the occurrences of a word in a string.\n",
    "# Ans 11 :: String Based Assignment Problem\n",
    "\n",
    "text11 = input(\"Enter your text: \").lower()\n",
    "text_tobe_counted = input(\"Enter text you want to count: \").lower()\n",
    "\n",
    "num_of_text11 = text11.count(text_tobe_counted)\n",
    "\n",
    "print (f\"\\n{text_tobe_counted} appeared {num_of_text11} time in given text\")\n"
   ]
  },
  {
   "cell_type": "code",
   "execution_count": 19,
   "id": "d77fc54f-b15f-4a65-b394-b933bb108331",
   "metadata": {},
   "outputs": [
    {
     "name": "stdin",
     "output_type": "stream",
     "text": [
      "Enter your text:  Hi! How are you today?\n",
      "Enter the text to be found:  are\n"
     ]
    },
    {
     "name": "stdout",
     "output_type": "stream",
     "text": [
      "Word 'are' was found at position number '8' in the given text\n"
     ]
    }
   ],
   "source": [
    "# Find the first occurrence of a word in a string.\n",
    "# Ans 12 :: String Based Assignment Problem\n",
    "\n",
    "text12 = input(\"Enter your text: \").lower()\n",
    "word2 = input(\"Enter the text to be found: \").lower()\n",
    "\n",
    "word_found1 = text12.index(word2)\n",
    "\n",
    "if word_found1 != -1:\n",
    "    print (f\"Word '{word2}' was found at position number '{word_found1}' in the given text\")\n",
    "else:\n",
    "    print (f\"Word '{word2}' was not found in the given text\")\n",
    "    "
   ]
  },
  {
   "cell_type": "code",
   "execution_count": 5,
   "id": "ea8d9388-8622-45a2-9200-289c647e27a0",
   "metadata": {},
   "outputs": [
    {
     "name": "stdin",
     "output_type": "stream",
     "text": [
      "Enter your text:  HI how are you HI how are you HI how are you\n",
      "Enter the word to be found in your text:  are\n"
     ]
    },
    {
     "name": "stdout",
     "output_type": "stream",
     "text": [
      "37\n",
      "Word 'are' was found at position number '37' in the given text\n"
     ]
    }
   ],
   "source": [
    "# Find the last occurrence of a word in a string.\n",
    "# Ans 13 :: String Based Assignment Problem\n",
    "\n",
    "text13 = input(\"Enter your text: \").lower()\n",
    "word3 = input(\"Enter the word to be found in your text: \").lower()\n",
    "\n",
    "word_found2 = text13.rfind(word3)\n",
    "\n",
    "print (word_found2)\n",
    "\n",
    "if word_found2 != -1:\n",
    "    print (f\"Word '{word3}' was found at position number '{word_found2}' in the given text\")\n",
    "else:\n",
    "    print (f\"Word '{word3}' was not found in the given text\")\n"
   ]
  },
  {
   "cell_type": "code",
   "execution_count": 11,
   "id": "e03d4658-9d18-4c1f-a9d8-33eb8ef9949e",
   "metadata": {},
   "outputs": [
    {
     "name": "stdin",
     "output_type": "stream",
     "text": [
      "Enter your string to split into a list of words:  Hi! How are you? I am fine, Thankyou\n"
     ]
    },
    {
     "name": "stdout",
     "output_type": "stream",
     "text": [
      "['Hi!', 'How', 'are', 'you?', 'I', 'am', 'fine,', 'Thankyou']\n"
     ]
    }
   ],
   "source": [
    "# Split a string into a list of words.\n",
    "# Ans 14 :: String Based Assignment Problem\n",
    "\n",
    "text14 = input(\"Enter your string to split into a list of words: \")\n",
    "word4 = text14.split()\n",
    "\n",
    "print (word4)"
   ]
  },
  {
   "cell_type": "code",
   "execution_count": 38,
   "id": "c608e6dd-7227-431f-861d-5e316e6087ab",
   "metadata": {},
   "outputs": [
    {
     "name": "stdout",
     "output_type": "stream",
     "text": [
      "Let's join the words of this list into a string\n"
     ]
    }
   ],
   "source": [
    "# Join a list of words into a string\n",
    "# Ans 15 :: String Based Assignment Problem\n",
    "\n",
    "text15 = [\"Let's\",\"join\", \"the\", \"words\", \"of\", \"this\", \"list\", \"into\", \"a\", \"string\"]\n",
    "word_5 = \" \"\n",
    "\n",
    "edited_text15 = word_5.join(text15)\n",
    "print (edited_text15)\n"
   ]
  },
  {
   "cell_type": "code",
   "execution_count": 41,
   "id": "c1fc751b-e280-4348-a943-47a7fea2dd96",
   "metadata": {},
   "outputs": [
    {
     "name": "stdout",
     "output_type": "stream",
     "text": [
      "Let's_seperate_these_words_with_an_underscore!\n"
     ]
    }
   ],
   "source": [
    "# Convert a string where words are separated by spaces to one where words\n",
    "# are separated by underscores.\n",
    "# Ans 16 :: String Based Assignment Problem\n",
    "\n",
    "text16 = (\"Let's seperate these words with an underscore!\")\n",
    "\n",
    "edited_text16 = text16.replace(\" \",\"_\")\n",
    "print (edited_text16)\n"
   ]
  },
  {
   "cell_type": "code",
   "execution_count": 9,
   "id": "812fedde-b71e-4d8d-9bd1-a5372ddf4eda",
   "metadata": {},
   "outputs": [
    {
     "name": "stdin",
     "output_type": "stream",
     "text": [
      "Enter your string:  Let's see if this works !!\n",
      "Enter the starting string/phrase you want to check:  let\n"
     ]
    },
    {
     "name": "stdout",
     "output_type": "stream",
     "text": [
      "True\n"
     ]
    }
   ],
   "source": [
    "# Check if a string starts with a specific word or phrase.\n",
    "# Ans 17 :: String Based Assignment Problem\n",
    "\n",
    "text17 = input(\"Enter your string: \")\n",
    "word_6 = input(\"Enter the starting string/phrase you want to check: \")\n",
    "\n",
    "text171 = text17.lower() \n",
    "text181 = word_6.lower()\n",
    "\n",
    "result_1 = text171.startswith(text181)\n",
    "print (result_1)"
   ]
  },
  {
   "cell_type": "code",
   "execution_count": 10,
   "id": "8eeaa06a-fcec-46b2-b845-290940d2dba8",
   "metadata": {},
   "outputs": [
    {
     "name": "stdin",
     "output_type": "stream",
     "text": [
      "Enter your string:  Let's see if this works too!!\n",
      "Enter the ending string/phrase you want to check:  to\n"
     ]
    },
    {
     "name": "stdout",
     "output_type": "stream",
     "text": [
      "False\n"
     ]
    }
   ],
   "source": [
    "# Check if a string ends with a specific word or phrase.\n",
    "# Ans 18 :: String Based Assignment Problem\n",
    "\n",
    "text18 = input(\"Enter your string: \").lower()\n",
    "word_7 = input(\"Enter the ending string/phrase you want to check: \").lower()\n",
    "\n",
    "result_2 = text18.endswith(word_7)\n",
    "print (result_2)"
   ]
  },
  {
   "cell_type": "code",
   "execution_count": 11,
   "id": "9edd537d-8a74-4070-bc69-188009369a43",
   "metadata": {},
   "outputs": [
    {
     "name": "stdin",
     "output_type": "stream",
     "text": [
      "Enter your string:   Hi! we are go to try new things today.\n"
     ]
    },
    {
     "name": "stdout",
     "output_type": "stream",
     "text": [
      " Hi! We Are Go To Try New Things Today.\n"
     ]
    }
   ],
   "source": [
    "# Convert a string to title case (e.g., \"hello world\" to \"Hello World\").\n",
    "# Ans 19 :: String Based Assignment Problem\n",
    "\n",
    "text19 = input(\"Enter your string: \")\n",
    "\n",
    "result_3 = text19.title()\n",
    "print (result_3)\n"
   ]
  },
  {
   "cell_type": "code",
   "execution_count": 12,
   "id": "e4f995ac-d3cb-4c48-8174-ef76f9901bff",
   "metadata": {},
   "outputs": [
    {
     "name": "stdin",
     "output_type": "stream",
     "text": [
      "Enter your string:  Max function is really convenient\n"
     ]
    },
    {
     "name": "stdout",
     "output_type": "stream",
     "text": [
      "convenient\n"
     ]
    }
   ],
   "source": [
    "# Find the longest word in a string.\n",
    "# Ans 20 :: String Based Assignment Problem\n",
    "\n",
    "text20 = input(\"Enter your string: \")\n",
    "convert_text20 = text20.strip(\",.'/?!*+-@%$#^&)(1234567890\")\n",
    "convert_list1 = convert_text20.split()\n",
    "\n",
    "longest_word8 = max(convert_list1, key = len)\n",
    "print (longest_word8)    "
   ]
  },
  {
   "cell_type": "code",
   "execution_count": 13,
   "id": "11e60512-0e28-4e41-ba44-d844399a48d4",
   "metadata": {},
   "outputs": [
    {
     "name": "stdin",
     "output_type": "stream",
     "text": [
      "Enter your string:  Min function works similar to max\n"
     ]
    },
    {
     "name": "stdout",
     "output_type": "stream",
     "text": [
      "to\n"
     ]
    }
   ],
   "source": [
    "# Find the shortest word in a string..\n",
    "# Ans 21 :: String Based Assignment Problem\n",
    "\n",
    "text21 = input(\"Enter your string: \")\n",
    "convert_text21 = text21.strip(\",.'/?!*+-@%$#^&)(1234567890\")\n",
    "convert_list2 = convert_text21.split()\n",
    "\n",
    "longest_word9 = min(convert_list2, key = len)\n",
    "print (longest_word9)    "
   ]
  },
  {
   "cell_type": "code",
   "execution_count": 31,
   "id": "60ee5d14-43f8-4b11-8775-ebc7982f990c",
   "metadata": {},
   "outputs": [
    {
     "name": "stdin",
     "output_type": "stream",
     "text": [
      "Enter your string:  Enter your string:  Min function works similar to max\n"
     ]
    },
    {
     "name": "stdout",
     "output_type": "stream",
     "text": [
      "max to similar works function Min string: your Enter "
     ]
    }
   ],
   "source": [
    "# Reverse the order of words in a string.\n",
    "# Ans 22 :: String Based Assignment Problem\n",
    "\n",
    "text22 = input(\"Enter your string: \")\n",
    "convert_list2 = text22.split()\n",
    "# print (convert_list2)\n",
    "reverse_list22 = (convert_list2[::-1])\n",
    "\n",
    "for i in reverse_list22:\n",
    "    print (i, end = \" \")"
   ]
  },
  {
   "cell_type": "code",
   "execution_count": 1,
   "id": "a9936586-16f7-4483-82ce-74bf102d4d90",
   "metadata": {},
   "outputs": [
    {
     "name": "stdin",
     "output_type": "stream",
     "text": [
      "Enter a word:  NEED_HELP_4_this_question\n"
     ]
    },
    {
     "name": "stdout",
     "output_type": "stream",
     "text": [
      "The string '  NEED_HELP_4_this_question  ' is Alphanumeric\n"
     ]
    }
   ],
   "source": [
    "# Check if a string is alphanumeric.\n",
    "# Ans 23 :: String Based Assignment Problem\n",
    "\n",
    "text23 = input(\"Enter a word: \")\n",
    "final_text231 = text23.replace(\" \",\"\")\n",
    "\n",
    "result_4 = final_text231.isalpha()\n",
    "result_5 = final_text231.isnumeric()\n",
    "\n",
    "if result_4 == False and result_5 == False:\n",
    "    print (f\"The string '  {text23}  ' is Alphanumeric\")\n",
    "else:\n",
    "    print (f\"The string '  {text23}  ' is not Alphanumeric\")"
   ]
  },
  {
   "cell_type": "code",
   "execution_count": 12,
   "id": "957572f0-8b58-4a6e-b9b6-bab1e10ab8f0",
   "metadata": {},
   "outputs": [
    {
     "name": "stdin",
     "output_type": "stream",
     "text": [
      "Enter string:  1Hi! 2 I think3545 this will work788!\n"
     ]
    },
    {
     "name": "stdout",
     "output_type": "stream",
     "text": [
      "Hi! I think this will work!\n"
     ]
    }
   ],
   "source": [
    "# Extract all digits from a string.\n",
    "# Ans 24 :: String Based Assignment Problem\n",
    "\n",
    "text24 = input(\"Enter string: \")\n",
    "numbers_1 = \"1234567890\"\n",
    "\n",
    "for n in numbers_1:\n",
    "    text24 = text24.replace(n,\"\")\n",
    "    text24 = text24.replace(\"  \",\" \")\n",
    "    \n",
    "print (text24)"
   ]
  },
  {
   "cell_type": "code",
   "execution_count": 17,
   "id": "f654f556-0abf-4559-acd3-fe1c38780c45",
   "metadata": {},
   "outputs": [
    {
     "name": "stdin",
     "output_type": "stream",
     "text": [
      "Enter string:  1Hi! 2 I think3545 this will work788 too!\n"
     ]
    },
    {
     "name": "stdout",
     "output_type": "stream",
     "text": [
      "1! 2 3545 788 !\n"
     ]
    }
   ],
   "source": [
    "# Extract all alphabets from a string.\n",
    "# Ans 25 :: String Based Assignment Problem\n",
    "\n",
    "text25 = input(\"Enter string: \")\n",
    "char_1 = \"abcdefghijklmnopqrstuvwxyzABCDEFGHIJKLMNOPQRSTUVWXYZ\"\n",
    "\n",
    "for c in char_1:\n",
    "    text25 = text25.replace(c,\"\")\n",
    "    text25 = text25.replace(\"  \",\" \")\n",
    "print (text25)"
   ]
  },
  {
   "cell_type": "code",
   "execution_count": 28,
   "id": "c49daf76-b576-4d41-9977-75ba744c8727",
   "metadata": {},
   "outputs": [
    {
     "name": "stdin",
     "output_type": "stream",
     "text": [
      "Enter string:  abcdefghijklmnopqrstuvwxyz ABCDEFGHIJKLMNOPQRSTUVWXYZ\n"
     ]
    },
    {
     "name": "stdout",
     "output_type": "stream",
     "text": [
      "26\n"
     ]
    }
   ],
   "source": [
    "# Count the number of uppercase letters in a string.\n",
    "# Ans 26 :: String Based Assignment Problem\n",
    "\n",
    "text26 = input(\"Enter string: \")\n",
    "char_2 = \"ABCDEFGHIJKLMNOPQRSTUVWXYZ\"\n",
    "\n",
    "char_count1 = sum(text26.count(char)for char in char_2)\n",
    "print(char_count1)"
   ]
  },
  {
   "cell_type": "code",
   "execution_count": 2,
   "id": "74dff972-b402-410b-92c1-0eaa35959443",
   "metadata": {},
   "outputs": [
    {
     "name": "stdin",
     "output_type": "stream",
     "text": [
      "Enter string:  abcdefghijkl  mnopq 121 rstuvw xyz ABCDEFG HIJK LMNOPQR STUVWXYZ\n"
     ]
    },
    {
     "name": "stdout",
     "output_type": "stream",
     "text": [
      "26\n"
     ]
    }
   ],
   "source": [
    "# Count the number of lowercase letters in a string.\n",
    "# Ans 27 :: String Based Assignment Problem\n",
    "\n",
    "text27 = input(\"Enter string: \")\n",
    "char_3 = \"abcdefghijklmnopqrstuvwxyz\"\n",
    "\n",
    "char_count2 = sum(text27.count(char)for char in char_3)\n",
    "print(char_count2)"
   ]
  },
  {
   "cell_type": "code",
   "execution_count": 4,
   "id": "5eb6dd1b-c2ae-449f-8fa8-31353c32500b",
   "metadata": {},
   "outputs": [
    {
     "name": "stdin",
     "output_type": "stream",
     "text": [
      "Enter string:  This Works!! NICE TRICK\n"
     ]
    },
    {
     "name": "stdout",
     "output_type": "stream",
     "text": [
      "tHIS wORKS!! nice trick\n"
     ]
    }
   ],
   "source": [
    "# Swap the case of each character in a string.\n",
    "# Ans 28 :: String Based Assignment Problem\n",
    "\n",
    "text28 = input(\"Enter string: \")\n",
    "text28 = text28.swapcase()\n",
    "print (text28)"
   ]
  },
  {
   "cell_type": "code",
   "execution_count": 11,
   "id": "e6ef78f2-dc94-458e-8896-8917bde6a7e7",
   "metadata": {},
   "outputs": [
    {
     "name": "stdin",
     "output_type": "stream",
     "text": [
      "Enter string:  Hi! How are you Today?\n",
      "Enter string to be removed:  today\n"
     ]
    },
    {
     "name": "stdout",
     "output_type": "stream",
     "text": [
      "hi! how are you ?\n"
     ]
    }
   ],
   "source": [
    "# Remove a specific word from a string.\n",
    "# Ans 29 :: String Based Assignment Problem\n",
    "\n",
    "text29 = input(\"Enter string: \")\n",
    "new_text29 = (text29).lower()\n",
    "edited_text29 = input(\"Enter string to be removed: \").lower()\n",
    "new_text29 = new_text29.replace (edited_text29,\"\")\n",
    "print (new_text29)"
   ]
  },
  {
   "cell_type": "code",
   "execution_count": 10,
   "id": "8d8101b8-51e8-43a9-a711-e42f5e2c1612",
   "metadata": {},
   "outputs": [
    {
     "name": "stdin",
     "output_type": "stream",
     "text": [
      "Enter email address:  abc@gmk.co.in\n"
     ]
    },
    {
     "name": "stdout",
     "output_type": "stream",
     "text": [
      "'abc@gmk.co.in' is a valid email adress\n"
     ]
    }
   ],
   "source": [
    "# Check if a string is a valid email address.\n",
    "# Ans 30 :: String Based Assignment Problem\n",
    "\n",
    "text30 = input(\"Enter email address: \")\n",
    "\n",
    "if text30.count(\"@\") == 1 and text30.count(\".\") >= 1:\n",
    "    print (f\"'{text30}' is a valid email adress\")\n",
    "else:\n",
    "    print (f\"'{text30}' is not a valid email adress\")\n"
   ]
  },
  {
   "cell_type": "code",
   "execution_count": 6,
   "id": "9d06e45e-246b-498f-847d-410af0b2347d",
   "metadata": {},
   "outputs": [
    {
     "name": "stdin",
     "output_type": "stream",
     "text": [
      "Enter email address:  abc@gmk.co.in\n"
     ]
    },
    {
     "name": "stdout",
     "output_type": "stream",
     "text": [
      "for email address:'abc@gmk.co.in' the Username is:'abc'\n"
     ]
    }
   ],
   "source": [
    "# Extract the username from an email address string.\n",
    "# Ans 31 :: String Based Assignment Problem\n",
    "\n",
    "text31 = input(\"Enter email address: \")\n",
    "\n",
    "edited_text31 = text31.split(\"@\")\n",
    "username_1 = edited_text31\n",
    "print (f\"for email address:'{text31}' the Username is:'{edited_text31 [0]}'\")"
   ]
  },
  {
   "cell_type": "code",
   "execution_count": 3,
   "id": "0bd50411-76e0-4777-a15a-f9d75db76d64",
   "metadata": {},
   "outputs": [
    {
     "name": "stdin",
     "output_type": "stream",
     "text": [
      "Enter email address:  abc@gmk.co.in\n"
     ]
    },
    {
     "name": "stdout",
     "output_type": "stream",
     "text": [
      "for email address:'abc@gmk.co.in' the Domain name is:'gmk.co.in'\n"
     ]
    }
   ],
   "source": [
    "# Extract the domain name from an email address string.\n",
    "# Ans 32 :: String Based Assignment Problem\n",
    "\n",
    "text32 = input(\"Enter email address: \")\n",
    "\n",
    "edited_text32 = text32.split(\"@\")\n",
    "domainname_1 = edited_text32\n",
    "print (f\"for email address:'{text32}' the Domain name is:'{edited_text32 [1]}'\")"
   ]
  },
  {
   "cell_type": "code",
   "execution_count": 15,
   "id": "62a93e60-1141-4c15-aadc-456954fcfcb0",
   "metadata": {},
   "outputs": [
    {
     "name": "stdin",
     "output_type": "stream",
     "text": [
      "Enter string:  # Replace multiple spaces in a string with a single space.\n"
     ]
    },
    {
     "name": "stdout",
     "output_type": "stream",
     "text": [
      "Edited string is : # Replace multiple spaces in a string with a single space. \n"
     ]
    }
   ],
   "source": [
    "# Replace multiple spaces in a string with a single space.\n",
    "# Ans 33 :: String Based Assignment Problem\n",
    "\n",
    "text33 = input(\"Enter string: \")\n",
    "text33 = text33.split()\n",
    "text33 = \" \".join(text33)\n",
    "\n",
    "print (f\"Edited string is : {text33} \")"
   ]
  },
  {
   "cell_type": "code",
   "execution_count": 13,
   "id": "2f586766-4815-4649-85e8-a0e663754780",
   "metadata": {},
   "outputs": [
    {
     "name": "stdin",
     "output_type": "stream",
     "text": [
      "Enter URL:  www.Idon'tGetIt.explain\n"
     ]
    },
    {
     "name": "stdout",
     "output_type": "stream",
     "text": [
      "'www.Idon'tGetIt.explain' is a valid URL\n"
     ]
    }
   ],
   "source": [
    "# Check if a string is a valid URL.\n",
    "# Ans 34 :: String Based Assignment Problem\n",
    "\n",
    "text34 = input(\"Enter URL: \")\n",
    "\n",
    "if text34.startswith(\"www\") or text34.startswith (\"https://\") and text34.count(\".\") >= 2:\n",
    "    print (f\"'{text34}' is a valid URL\")\n",
    "else:\n",
    "    print (f\"'{text34}' is not a valid URL\")\n"
   ]
  },
  {
   "cell_type": "code",
   "execution_count": 16,
   "id": "a3be8056-649b-49da-bdb9-50dcf70083e0",
   "metadata": {},
   "outputs": [
    {
     "name": "stdin",
     "output_type": "stream",
     "text": [
      "Enter URL:  https://www.IamSureThereIsABetterWay.com\n"
     ]
    },
    {
     "name": "stdout",
     "output_type": "stream",
     "text": [
      "Protocal = https\n"
     ]
    }
   ],
   "source": [
    "# Extract the protocol (http or https) from a URL string.\n",
    "# Ans 35 :: String Based Assignment Problem\n",
    "\n",
    "text35 = input(\"Enter URL: \")\n",
    "\n",
    "if \"https\" in text35:\n",
    "    protocol = \"https\"\n",
    "elif \"http\" in text35:\n",
    "    protocol = \"http\"\n",
    "else:\n",
    "    protocol = \"protocol not found\"\n",
    "\n",
    "print (f\"Protocal = {protocol}\")    "
   ]
  },
  {
   "cell_type": "code",
   "execution_count": 24,
   "id": "0c5fb9aa-850c-4e9c-9a24-98c4d95c7c3a",
   "metadata": {},
   "outputs": [
    {
     "name": "stdin",
     "output_type": "stream",
     "text": [
      "Enter String:  These topics are not covered yet\n"
     ]
    },
    {
     "name": "stdout",
     "output_type": "stream",
     "text": [
      "'T' : 1\n",
      "'h' : 1\n",
      "'e' : 6\n",
      "'s' : 2\n",
      "'t' : 3\n",
      "'o' : 3\n",
      "'p' : 1\n",
      "'i' : 1\n",
      "'c' : 2\n",
      "'a' : 1\n",
      "'r' : 2\n",
      "'n' : 1\n",
      "'v' : 1\n",
      "'d' : 1\n",
      "'y' : 1\n"
     ]
    }
   ],
   "source": [
    "# Find the frequency of each character in a string.\n",
    "# Ans 36 :: String Based Assignment Problem\n",
    "\n",
    "text36 = input(\"Enter String: \")\n",
    "text36 = text36.replace(\" \",\"\")\n",
    "text36_dict = {}\n",
    "\n",
    "for letter in text36:\n",
    "    if letter in text36_dict:\n",
    "        text36_dict[letter] += 1\n",
    "    else:\n",
    "        text36_dict[letter] = 1\n",
    "for letter, freq in text36_dict.items():\n",
    "    print(f\"'{letter}' : { freq}\")"
   ]
  },
  {
   "cell_type": "code",
   "execution_count": 9,
   "id": "3dc4e267-513a-4166-8a6b-e3b8e46b259a",
   "metadata": {},
   "outputs": [
    {
     "name": "stdin",
     "output_type": "stream",
     "text": [
      "Enter String:  This! will.....,, take,,,some gett&&&ing use to.\n"
     ]
    },
    {
     "name": "stdout",
     "output_type": "stream",
     "text": [
      "This! will.....,, take,,,some gett&&&ing use to.\n"
     ]
    }
   ],
   "source": [
    "# Remove all punctuation from a string.\n",
    "# Ans 37 :: String Based Assignment Problem\n",
    "\n",
    "text37 = input(\"Enter String: \")\n",
    "character_1 = str(\".,;:!?'()[]–—-.}..-/%&*#$@+-<>~_{\")\n",
    "\n",
    "for character in character_1:\n",
    "    text37.replace(character,\"\")\n",
    "\n",
    "print(text37)\n"
   ]
  },
  {
   "cell_type": "code",
   "execution_count": 4,
   "id": "9008694e-972c-4e2e-98c9-60e4773a40fc",
   "metadata": {},
   "outputs": [
    {
     "name": "stdin",
     "output_type": "stream",
     "text": [
      "Enter String:  Hi How are you today\n"
     ]
    },
    {
     "name": "stdout",
     "output_type": "stream",
     "text": [
      "This string has more than digits\n"
     ]
    }
   ],
   "source": [
    "# Check if a string contains only digits.\n",
    "# Ans 38 :: String Based Assignment Problem\n",
    "\n",
    "text38 = input(\"Enter String: \")\n",
    "result_5 = text38.isalnum\n",
    "\n",
    "if result_5 == True:\n",
    "    print (\"This string contains only digits\")\n",
    "else:\n",
    "    print (\"This string has more than digits\")"
   ]
  },
  {
   "cell_type": "code",
   "execution_count": 5,
   "id": "cba609d6-0db1-4bd9-b584-cc9126712589",
   "metadata": {},
   "outputs": [
    {
     "name": "stdin",
     "output_type": "stream",
     "text": [
      "Enter String:  Hi How are you today\n"
     ]
    },
    {
     "name": "stdout",
     "output_type": "stream",
     "text": [
      "This string contains only letters\n"
     ]
    }
   ],
   "source": [
    "# Check if a string contains only alphabets.\n",
    "# Ans 39 :: String Based Assignment Problem\n",
    "\n",
    "text39 = input(\"Enter String: \")\n",
    "text39 = text39.replace (\" \",\"\")\n",
    "result11 = text39.isalpha()\n",
    "if result11 == True:\n",
    "    print (\"This string contains only letters\")\n",
    "else:\n",
    "    print (\"This string has more than letters\")"
   ]
  },
  {
   "cell_type": "code",
   "execution_count": 13,
   "id": "0006bda5-a0e1-4493-a7c0-d032c2989da5",
   "metadata": {},
   "outputs": [
    {
     "name": "stdin",
     "output_type": "stream",
     "text": [
      "Enter String:  HI How are you?\n"
     ]
    },
    {
     "name": "stdout",
     "output_type": "stream",
     "text": [
      "['H', 'I', ' ', 'H', 'o', 'w', ' ', 'a', 'r', 'e', ' ', 'y', 'o', 'u', '?']\n"
     ]
    }
   ],
   "source": [
    "# Convert a string to a list of characters..\n",
    "# Ans 40 :: String Based Assignment Problem\n",
    "\n",
    "text40 = input(\"Enter String: \")\n",
    "text40_list = list(text40)\n",
    "print (text40_list)"
   ]
  },
  {
   "cell_type": "code",
   "execution_count": 19,
   "id": "4429bd6c-5726-4515-862f-9351d096ebb9",
   "metadata": {},
   "outputs": [
    {
     "name": "stdin",
     "output_type": "stream",
     "text": [
      "Enter string:  These qustionnth are gettingnth out of handnth\n"
     ]
    },
    {
     "name": "stdout",
     "output_type": "stream",
     "text": [
      "These qustion are getting out of hand\n"
     ]
    }
   ],
   "source": [
    "# String Based Assignment Problem\n",
    "# Ans 48 Remove the nth word from a string.\n",
    "\n",
    "text48 = input (\"Enter string: \")\n",
    "result_48 = text48.replace (\"nth\",\"\")\n",
    "\n",
    "print (result_48)"
   ]
  },
  {
   "cell_type": "code",
   "execution_count": null,
   "id": "d493c5ae-e4c4-4270-880f-920f88a1a2bb",
   "metadata": {},
   "outputs": [],
   "source": []
  }
 ],
 "metadata": {
  "kernelspec": {
   "display_name": "Python 3 (ipykernel)",
   "language": "python",
   "name": "python3"
  },
  "language_info": {
   "codemirror_mode": {
    "name": "ipython",
    "version": 3
   },
   "file_extension": ".py",
   "mimetype": "text/x-python",
   "name": "python",
   "nbconvert_exporter": "python",
   "pygments_lexer": "ipython3",
   "version": "3.10.8"
  }
 },
 "nbformat": 4,
 "nbformat_minor": 5
}
